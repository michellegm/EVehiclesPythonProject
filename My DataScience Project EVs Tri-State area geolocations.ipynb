{
 "cells": [
  {
   "cell_type": "code",
   "execution_count": 1,
   "id": "2c544a2a",
   "metadata": {},
   "outputs": [],
   "source": [
    "import pandas as pd\n",
    "import numpy as np\n",
    "import matplotlib.pyplot as plt\n",
    "import seaborn as sns\n",
    "from sklearn.linear_model import LinearRegression\n",
    "from sklearn.model_selection import train_test_split\n",
    "from sklearn import preprocessing"
   ]
  },
  {
   "cell_type": "code",
   "execution_count": 2,
   "id": "60b412fc",
   "metadata": {},
   "outputs": [
    {
     "name": "stderr",
     "output_type": "stream",
     "text": [
      "/Users/michellereismoreno/opt/anaconda3/lib/python3.8/site-packages/IPython/core/interactiveshell.py:3165: DtypeWarning: Columns (6,20) have mixed types.Specify dtype option on import or set low_memory=False.\n",
      "  has_raised = await self.run_ast_nodes(code_ast.body, cell_name,\n"
     ]
    },
    {
     "data": {
      "text/html": [
       "<div>\n",
       "<style scoped>\n",
       "    .dataframe tbody tr th:only-of-type {\n",
       "        vertical-align: middle;\n",
       "    }\n",
       "\n",
       "    .dataframe tbody tr th {\n",
       "        vertical-align: top;\n",
       "    }\n",
       "\n",
       "    .dataframe thead th {\n",
       "        text-align: right;\n",
       "    }\n",
       "</style>\n",
       "<table border=\"1\" class=\"dataframe\">\n",
       "  <thead>\n",
       "    <tr style=\"text-align: right;\">\n",
       "      <th></th>\n",
       "      <th>Fuel Type Code</th>\n",
       "      <th>Station Name</th>\n",
       "      <th>Street Address</th>\n",
       "      <th>Intersection Directions</th>\n",
       "      <th>City</th>\n",
       "      <th>State</th>\n",
       "      <th>ZIP</th>\n",
       "      <th>Plus4</th>\n",
       "      <th>Station Phone</th>\n",
       "      <th>Status Code</th>\n",
       "      <th>...</th>\n",
       "      <th>EV Pricing (French)</th>\n",
       "      <th>LPG Nozzle Types</th>\n",
       "      <th>Hydrogen Pressures</th>\n",
       "      <th>Hydrogen Standards</th>\n",
       "      <th>CNG Fill Type Code</th>\n",
       "      <th>CNG PSI</th>\n",
       "      <th>CNG Vehicle Class</th>\n",
       "      <th>LNG Vehicle Class</th>\n",
       "      <th>EV On-Site Renewable Source</th>\n",
       "      <th>Restricted Access</th>\n",
       "    </tr>\n",
       "  </thead>\n",
       "  <tbody>\n",
       "    <tr>\n",
       "      <th>50284</th>\n",
       "      <td>ELEC</td>\n",
       "      <td>VIP LOT STATION1</td>\n",
       "      <td>1501 Kirkwood Meadows Dr</td>\n",
       "      <td>NaN</td>\n",
       "      <td>Markleeville</td>\n",
       "      <td>CA</td>\n",
       "      <td>96120</td>\n",
       "      <td>NaN</td>\n",
       "      <td>888-758-4389</td>\n",
       "      <td>E</td>\n",
       "      <td>...</td>\n",
       "      <td>NaN</td>\n",
       "      <td>NaN</td>\n",
       "      <td>NaN</td>\n",
       "      <td>NaN</td>\n",
       "      <td>NaN</td>\n",
       "      <td>NaN</td>\n",
       "      <td>NaN</td>\n",
       "      <td>NaN</td>\n",
       "      <td>NaN</td>\n",
       "      <td>NaN</td>\n",
       "    </tr>\n",
       "    <tr>\n",
       "      <th>50285</th>\n",
       "      <td>ELEC</td>\n",
       "      <td>Prunedale Shopping Center</td>\n",
       "      <td>8065 San Miguel Canyon Rd</td>\n",
       "      <td>NaN</td>\n",
       "      <td>Salinas</td>\n",
       "      <td>CA</td>\n",
       "      <td>93907</td>\n",
       "      <td>NaN</td>\n",
       "      <td>877-455-3833</td>\n",
       "      <td>E</td>\n",
       "      <td>...</td>\n",
       "      <td>NaN</td>\n",
       "      <td>NaN</td>\n",
       "      <td>NaN</td>\n",
       "      <td>NaN</td>\n",
       "      <td>NaN</td>\n",
       "      <td>NaN</td>\n",
       "      <td>NaN</td>\n",
       "      <td>NaN</td>\n",
       "      <td>NaN</td>\n",
       "      <td>NaN</td>\n",
       "    </tr>\n",
       "    <tr>\n",
       "      <th>50286</th>\n",
       "      <td>ELEC</td>\n",
       "      <td>Beaverton Electric Avenue</td>\n",
       "      <td>11665 SW Beaverton Hillsdale Hwy</td>\n",
       "      <td>NaN</td>\n",
       "      <td>Beaverton</td>\n",
       "      <td>OR</td>\n",
       "      <td>97005</td>\n",
       "      <td>NaN</td>\n",
       "      <td>855-900-7584</td>\n",
       "      <td>E</td>\n",
       "      <td>...</td>\n",
       "      <td>NaN</td>\n",
       "      <td>NaN</td>\n",
       "      <td>NaN</td>\n",
       "      <td>NaN</td>\n",
       "      <td>NaN</td>\n",
       "      <td>NaN</td>\n",
       "      <td>NaN</td>\n",
       "      <td>NaN</td>\n",
       "      <td>NaN</td>\n",
       "      <td>NaN</td>\n",
       "    </tr>\n",
       "    <tr>\n",
       "      <th>50287</th>\n",
       "      <td>ELEC</td>\n",
       "      <td>Shell - Inman</td>\n",
       "      <td>2040 Highway 292</td>\n",
       "      <td>NaN</td>\n",
       "      <td>Inman</td>\n",
       "      <td>SC</td>\n",
       "      <td>29349</td>\n",
       "      <td>NaN</td>\n",
       "      <td>855-900-7584</td>\n",
       "      <td>E</td>\n",
       "      <td>...</td>\n",
       "      <td>NaN</td>\n",
       "      <td>NaN</td>\n",
       "      <td>NaN</td>\n",
       "      <td>NaN</td>\n",
       "      <td>NaN</td>\n",
       "      <td>NaN</td>\n",
       "      <td>NaN</td>\n",
       "      <td>NaN</td>\n",
       "      <td>NaN</td>\n",
       "      <td>NaN</td>\n",
       "    </tr>\n",
       "    <tr>\n",
       "      <th>50288</th>\n",
       "      <td>ELEC</td>\n",
       "      <td>Westfield Trumbull (Trumbull, CT)</td>\n",
       "      <td>5065 Main Street</td>\n",
       "      <td>NaN</td>\n",
       "      <td>Trumbull</td>\n",
       "      <td>CT</td>\n",
       "      <td>6611</td>\n",
       "      <td>NaN</td>\n",
       "      <td>833-632-2778</td>\n",
       "      <td>E</td>\n",
       "      <td>...</td>\n",
       "      <td>NaN</td>\n",
       "      <td>NaN</td>\n",
       "      <td>NaN</td>\n",
       "      <td>NaN</td>\n",
       "      <td>NaN</td>\n",
       "      <td>NaN</td>\n",
       "      <td>NaN</td>\n",
       "      <td>NaN</td>\n",
       "      <td>NaN</td>\n",
       "      <td>NaN</td>\n",
       "    </tr>\n",
       "  </tbody>\n",
       "</table>\n",
       "<p>5 rows × 65 columns</p>\n",
       "</div>"
      ],
      "text/plain": [
       "      Fuel Type Code                       Station Name  \\\n",
       "50284           ELEC                   VIP LOT STATION1   \n",
       "50285           ELEC          Prunedale Shopping Center   \n",
       "50286           ELEC          Beaverton Electric Avenue   \n",
       "50287           ELEC                      Shell - Inman   \n",
       "50288           ELEC  Westfield Trumbull (Trumbull, CT)   \n",
       "\n",
       "                         Street Address Intersection Directions          City  \\\n",
       "50284          1501 Kirkwood Meadows Dr                     NaN  Markleeville   \n",
       "50285         8065 San Miguel Canyon Rd                     NaN       Salinas   \n",
       "50286  11665 SW Beaverton Hillsdale Hwy                     NaN     Beaverton   \n",
       "50287                  2040 Highway 292                     NaN         Inman   \n",
       "50288                  5065 Main Street                     NaN      Trumbull   \n",
       "\n",
       "      State    ZIP  Plus4 Station Phone Status Code  ... EV Pricing (French)  \\\n",
       "50284    CA  96120    NaN  888-758-4389           E  ...                 NaN   \n",
       "50285    CA  93907    NaN  877-455-3833           E  ...                 NaN   \n",
       "50286    OR  97005    NaN  855-900-7584           E  ...                 NaN   \n",
       "50287    SC  29349    NaN  855-900-7584           E  ...                 NaN   \n",
       "50288    CT   6611    NaN  833-632-2778           E  ...                 NaN   \n",
       "\n",
       "      LPG Nozzle Types Hydrogen Pressures Hydrogen Standards  \\\n",
       "50284              NaN                NaN                NaN   \n",
       "50285              NaN                NaN                NaN   \n",
       "50286              NaN                NaN                NaN   \n",
       "50287              NaN                NaN                NaN   \n",
       "50288              NaN                NaN                NaN   \n",
       "\n",
       "       CNG Fill Type Code  CNG PSI  CNG Vehicle Class  LNG Vehicle Class  \\\n",
       "50284                 NaN      NaN                NaN                NaN   \n",
       "50285                 NaN      NaN                NaN                NaN   \n",
       "50286                 NaN      NaN                NaN                NaN   \n",
       "50287                 NaN      NaN                NaN                NaN   \n",
       "50288                 NaN      NaN                NaN                NaN   \n",
       "\n",
       "       EV On-Site Renewable Source  Restricted Access  \n",
       "50284                          NaN                NaN  \n",
       "50285                          NaN                NaN  \n",
       "50286                          NaN                NaN  \n",
       "50287                          NaN                NaN  \n",
       "50288                          NaN                NaN  \n",
       "\n",
       "[5 rows x 65 columns]"
      ]
     },
     "execution_count": 2,
     "metadata": {},
     "output_type": "execute_result"
    }
   ],
   "source": [
    "df =pd.read_csv('/Users/michellereismoreno/Downloads/ev_stations_v1.csv')\n",
    "df.tail()"
   ]
  },
  {
   "cell_type": "code",
   "execution_count": 3,
   "id": "204eb8c5",
   "metadata": {},
   "outputs": [
    {
     "data": {
      "text/plain": [
       "False"
      ]
     },
     "execution_count": 3,
     "metadata": {},
     "output_type": "execute_result"
    }
   ],
   "source": [
    "# checking for duplicate values\n",
    "\n",
    "df.duplicated().values.any()"
   ]
  },
  {
   "cell_type": "code",
   "execution_count": 4,
   "id": "f538eb3e",
   "metadata": {},
   "outputs": [
    {
     "name": "stdout",
     "output_type": "stream",
     "text": [
      "<class 'pandas.core.frame.DataFrame'>\n",
      "RangeIndex: 50289 entries, 0 to 50288\n",
      "Data columns (total 65 columns):\n",
      " #   Column                            Non-Null Count  Dtype  \n",
      "---  ------                            --------------  -----  \n",
      " 0   Fuel Type Code                    50289 non-null  object \n",
      " 1   Station Name                      50289 non-null  object \n",
      " 2   Street Address                    50256 non-null  object \n",
      " 3   Intersection Directions           2491 non-null   object \n",
      " 4   City                              50289 non-null  object \n",
      " 5   State                             50289 non-null  object \n",
      " 6   ZIP                               50289 non-null  object \n",
      " 7   Plus4                             0 non-null      float64\n",
      " 8   Station Phone                     47211 non-null  object \n",
      " 9   Status Code                       50289 non-null  object \n",
      " 10  Expected Date                     147 non-null    object \n",
      " 11  Groups With Access Code           50289 non-null  object \n",
      " 12  Access Days Time                  48233 non-null  object \n",
      " 13  Cards Accepted                    1516 non-null   object \n",
      " 14  BD Blends                         0 non-null      float64\n",
      " 15  NG Fill Type Code                 0 non-null      float64\n",
      " 16  NG PSI                            0 non-null      float64\n",
      " 17  EV Level1 EVSE Num                1001 non-null   float64\n",
      " 18  EV Level2 EVSE Num                44857 non-null  float64\n",
      " 19  EV DC Fast Count                  5939 non-null   float64\n",
      " 20  EV Other Info                     34 non-null     object \n",
      " 21  EV Network                        50284 non-null  object \n",
      " 22  EV Network Web                    41804 non-null  object \n",
      " 23  Geocode Status                    50289 non-null  object \n",
      " 24  Latitude                          50289 non-null  float64\n",
      " 25  Longitude                         50289 non-null  float64\n",
      " 26  Date Last Confirmed               50272 non-null  object \n",
      " 27  ID                                50289 non-null  int64  \n",
      " 28  Updated At                        50289 non-null  object \n",
      " 29  Owner Type Code                   16533 non-null  object \n",
      " 30  Federal Agency ID                 1054 non-null   float64\n",
      " 31  Federal Agency Name               1054 non-null   object \n",
      " 32  Open Date                         50217 non-null  object \n",
      " 33  Hydrogen Status Link              0 non-null      float64\n",
      " 34  NG Vehicle Class                  0 non-null      float64\n",
      " 35  LPG Primary                       0 non-null      float64\n",
      " 36  E85 Blender Pump                  0 non-null      float64\n",
      " 37  EV Connector Types                50272 non-null  object \n",
      " 38  Country                           50289 non-null  object \n",
      " 39  Intersection Directions (French)  0 non-null      float64\n",
      " 40  Access Days Time (French)         0 non-null      float64\n",
      " 41  BD Blends (French)                0 non-null      float64\n",
      " 42  Groups With Access Code (French)  50289 non-null  object \n",
      " 43  Hydrogen Is Retail                0 non-null      float64\n",
      " 44  Access Code                       50289 non-null  object \n",
      " 45  Access Detail Code                3394 non-null   object \n",
      " 46  Federal Agency Code               1054 non-null   object \n",
      " 47  Facility Type                     14815 non-null  object \n",
      " 48  CNG Dispenser Num                 0 non-null      float64\n",
      " 49  CNG On-Site Renewable Source      0 non-null      float64\n",
      " 50  CNG Total Compression Capacity    0 non-null      float64\n",
      " 51  CNG Storage Capacity              0 non-null      float64\n",
      " 52  LNG On-Site Renewable Source      0 non-null      float64\n",
      " 53  E85 Other Ethanol Blends          0 non-null      float64\n",
      " 54  EV Pricing                        14873 non-null  object \n",
      " 55  EV Pricing (French)               0 non-null      float64\n",
      " 56  LPG Nozzle Types                  0 non-null      float64\n",
      " 57  Hydrogen Pressures                0 non-null      float64\n",
      " 58  Hydrogen Standards                0 non-null      float64\n",
      " 59  CNG Fill Type Code                0 non-null      float64\n",
      " 60  CNG PSI                           0 non-null      float64\n",
      " 61  CNG Vehicle Class                 0 non-null      float64\n",
      " 62  LNG Vehicle Class                 0 non-null      float64\n",
      " 63  EV On-Site Renewable Source       352 non-null    object \n",
      " 64  Restricted Access                 0 non-null      float64\n",
      "dtypes: float64(33), int64(1), object(31)\n",
      "memory usage: 24.9+ MB\n"
     ]
    }
   ],
   "source": [
    "df.info()  # info on DataFrame including index dtype and columns, non-null values"
   ]
  },
  {
   "cell_type": "code",
   "execution_count": 5,
   "id": "335cf0b2",
   "metadata": {},
   "outputs": [
    {
     "data": {
      "text/html": [
       "<div>\n",
       "<style scoped>\n",
       "    .dataframe tbody tr th:only-of-type {\n",
       "        vertical-align: middle;\n",
       "    }\n",
       "\n",
       "    .dataframe tbody tr th {\n",
       "        vertical-align: top;\n",
       "    }\n",
       "\n",
       "    .dataframe thead th {\n",
       "        text-align: right;\n",
       "    }\n",
       "</style>\n",
       "<table border=\"1\" class=\"dataframe\">\n",
       "  <thead>\n",
       "    <tr style=\"text-align: right;\">\n",
       "      <th></th>\n",
       "      <th>State</th>\n",
       "      <th>Open Date</th>\n",
       "      <th>Latitude</th>\n",
       "      <th>Longitude</th>\n",
       "    </tr>\n",
       "  </thead>\n",
       "  <tbody>\n",
       "    <tr>\n",
       "      <th>50284</th>\n",
       "      <td>CA</td>\n",
       "      <td>2022-01-14</td>\n",
       "      <td>38.684660</td>\n",
       "      <td>-120.065169</td>\n",
       "    </tr>\n",
       "    <tr>\n",
       "      <th>50285</th>\n",
       "      <td>CA</td>\n",
       "      <td>2022-01-14</td>\n",
       "      <td>36.801716</td>\n",
       "      <td>-121.664153</td>\n",
       "    </tr>\n",
       "    <tr>\n",
       "      <th>50286</th>\n",
       "      <td>OR</td>\n",
       "      <td>2022-01-14</td>\n",
       "      <td>45.489030</td>\n",
       "      <td>-122.798151</td>\n",
       "    </tr>\n",
       "    <tr>\n",
       "      <th>50287</th>\n",
       "      <td>SC</td>\n",
       "      <td>2022-01-14</td>\n",
       "      <td>35.082476</td>\n",
       "      <td>-82.058433</td>\n",
       "    </tr>\n",
       "    <tr>\n",
       "      <th>50288</th>\n",
       "      <td>CT</td>\n",
       "      <td>2022-01-14</td>\n",
       "      <td>41.228951</td>\n",
       "      <td>-73.223944</td>\n",
       "    </tr>\n",
       "  </tbody>\n",
       "</table>\n",
       "</div>"
      ],
      "text/plain": [
       "      State   Open Date   Latitude   Longitude\n",
       "50284    CA  2022-01-14  38.684660 -120.065169\n",
       "50285    CA  2022-01-14  36.801716 -121.664153\n",
       "50286    OR  2022-01-14  45.489030 -122.798151\n",
       "50287    SC  2022-01-14  35.082476  -82.058433\n",
       "50288    CT  2022-01-14  41.228951  -73.223944"
      ]
     },
     "execution_count": 5,
     "metadata": {},
     "output_type": "execute_result"
    }
   ],
   "source": [
    "# narrow down to use only 4 columns of the 65\n",
    "df = df[[\"State\", \"Open Date\", \"Latitude\", \"Longitude\"]]\n",
    "df.tail()"
   ]
  },
  {
   "cell_type": "code",
   "execution_count": 6,
   "id": "1257d608",
   "metadata": {},
   "outputs": [
    {
     "data": {
      "text/plain": [
       "dtype('O')"
      ]
     },
     "execution_count": 6,
     "metadata": {},
     "output_type": "execute_result"
    }
   ],
   "source": [
    "df[\"Open Date\"].dtype"
   ]
  },
  {
   "cell_type": "code",
   "execution_count": 7,
   "id": "9a89c6de",
   "metadata": {},
   "outputs": [],
   "source": [
    "df[\"Open Date\"]= df[\"Open Date\"].apply(pd.to_datetime)  # converts Open Date Object "
   ]
  },
  {
   "cell_type": "code",
   "execution_count": 8,
   "id": "04cce67e",
   "metadata": {},
   "outputs": [
    {
     "data": {
      "text/plain": [
       "Timestamp('1995-08-30 00:00:00')"
      ]
     },
     "execution_count": 8,
     "metadata": {},
     "output_type": "execute_result"
    }
   ],
   "source": [
    "df[\"Open Date\"].min()   # earliest EV station"
   ]
  },
  {
   "cell_type": "code",
   "execution_count": 9,
   "id": "23836cdd",
   "metadata": {},
   "outputs": [
    {
     "data": {
      "text/plain": [
       "0        34.248319\n",
       "1        34.052542\n",
       "2        34.040539\n",
       "3        34.059133\n",
       "4        33.759802\n",
       "           ...    \n",
       "50284    38.684660\n",
       "50285    36.801716\n",
       "50286    45.489030\n",
       "50287    35.082476\n",
       "50288    41.228951\n",
       "Name: Latitude, Length: 50289, dtype: float64"
      ]
     },
     "execution_count": 9,
     "metadata": {},
     "output_type": "execute_result"
    }
   ],
   "source": [
    "df[\"Latitude\"]"
   ]
  },
  {
   "cell_type": "code",
   "execution_count": 10,
   "id": "2adaad6b",
   "metadata": {},
   "outputs": [
    {
     "data": {
      "text/plain": [
       "0       -118.387971\n",
       "1       -118.448504\n",
       "2       -118.271387\n",
       "3       -118.248589\n",
       "4       -118.096665\n",
       "            ...    \n",
       "50284   -120.065169\n",
       "50285   -121.664153\n",
       "50286   -122.798151\n",
       "50287    -82.058433\n",
       "50288    -73.223944\n",
       "Name: Longitude, Length: 50289, dtype: float64"
      ]
     },
     "execution_count": 10,
     "metadata": {},
     "output_type": "execute_result"
    }
   ],
   "source": [
    "df[\"Longitude\"]"
   ]
  },
  {
   "cell_type": "code",
   "execution_count": 11,
   "id": "70d6e62b",
   "metadata": {},
   "outputs": [],
   "source": [
    "NJ = df[df[\"State\"]=='NJ']\n",
    "CT = df[df[\"State\"]=='CT']\n",
    "NY= df[df[\"State\"]=='NY']"
   ]
  },
  {
   "cell_type": "code",
   "execution_count": 12,
   "id": "7318a93b",
   "metadata": {},
   "outputs": [],
   "source": [
    "tristate = pd.concat([NJ,CT, NY])"
   ]
  },
  {
   "cell_type": "code",
   "execution_count": 13,
   "id": "918446cb",
   "metadata": {},
   "outputs": [
    {
     "data": {
      "text/html": [
       "<div>\n",
       "<style scoped>\n",
       "    .dataframe tbody tr th:only-of-type {\n",
       "        vertical-align: middle;\n",
       "    }\n",
       "\n",
       "    .dataframe tbody tr th {\n",
       "        vertical-align: top;\n",
       "    }\n",
       "\n",
       "    .dataframe thead th {\n",
       "        text-align: right;\n",
       "    }\n",
       "</style>\n",
       "<table border=\"1\" class=\"dataframe\">\n",
       "  <thead>\n",
       "    <tr style=\"text-align: right;\">\n",
       "      <th></th>\n",
       "      <th>State</th>\n",
       "      <th>Open Date</th>\n",
       "      <th>Latitude</th>\n",
       "      <th>Longitude</th>\n",
       "    </tr>\n",
       "  </thead>\n",
       "  <tbody>\n",
       "    <tr>\n",
       "      <th>150</th>\n",
       "      <td>NJ</td>\n",
       "      <td>2010-05-15</td>\n",
       "      <td>40.286518</td>\n",
       "      <td>-74.807516</td>\n",
       "    </tr>\n",
       "    <tr>\n",
       "      <th>641</th>\n",
       "      <td>NJ</td>\n",
       "      <td>2011-10-15</td>\n",
       "      <td>40.350118</td>\n",
       "      <td>-74.662732</td>\n",
       "    </tr>\n",
       "    <tr>\n",
       "      <th>729</th>\n",
       "      <td>NJ</td>\n",
       "      <td>2012-04-15</td>\n",
       "      <td>40.663848</td>\n",
       "      <td>-74.216585</td>\n",
       "    </tr>\n",
       "    <tr>\n",
       "      <th>753</th>\n",
       "      <td>NJ</td>\n",
       "      <td>2012-01-15</td>\n",
       "      <td>39.934849</td>\n",
       "      <td>-75.029991</td>\n",
       "    </tr>\n",
       "    <tr>\n",
       "      <th>1046</th>\n",
       "      <td>NJ</td>\n",
       "      <td>2012-01-31</td>\n",
       "      <td>40.917338</td>\n",
       "      <td>-73.997447</td>\n",
       "    </tr>\n",
       "  </tbody>\n",
       "</table>\n",
       "</div>"
      ],
      "text/plain": [
       "     State  Open Date   Latitude  Longitude\n",
       "150     NJ 2010-05-15  40.286518 -74.807516\n",
       "641     NJ 2011-10-15  40.350118 -74.662732\n",
       "729     NJ 2012-04-15  40.663848 -74.216585\n",
       "753     NJ 2012-01-15  39.934849 -75.029991\n",
       "1046    NJ 2012-01-31  40.917338 -73.997447"
      ]
     },
     "execution_count": 13,
     "metadata": {},
     "output_type": "execute_result"
    }
   ],
   "source": [
    "tristate.head()"
   ]
  },
  {
   "cell_type": "code",
   "execution_count": 14,
   "id": "30cf0936",
   "metadata": {},
   "outputs": [],
   "source": [
    "tristate.reset_index(drop = True, inplace = True)  # makes dropping missing, and make permanent"
   ]
  },
  {
   "cell_type": "code",
   "execution_count": 15,
   "id": "37281aad",
   "metadata": {},
   "outputs": [],
   "source": [
    "tristate.drop(3876, inplace = True)"
   ]
  },
  {
   "cell_type": "code",
   "execution_count": 16,
   "id": "641f852d",
   "metadata": {},
   "outputs": [],
   "source": [
    "evOpen= df.groupby(\"Open Date\").count()[\"State\"]"
   ]
  },
  {
   "cell_type": "code",
   "execution_count": 17,
   "id": "74359aa1",
   "metadata": {},
   "outputs": [],
   "source": [
    "newSort= evOpen.sort_values(ascending = False)\n",
    "newSort= newSort.iloc[:10]"
   ]
  },
  {
   "cell_type": "code",
   "execution_count": 18,
   "id": "300ebdc9",
   "metadata": {},
   "outputs": [
    {
     "data": {
      "text/plain": [
       "Open Date\n",
       "2021-01-27    10413\n",
       "2020-06-12     3434\n",
       "2018-11-01      905\n",
       "2021-10-25      843\n",
       "2012-01-31      714\n",
       "2020-11-03      677\n",
       "2021-01-15      654\n",
       "2017-09-01      534\n",
       "2011-03-15      470\n",
       "2019-08-15      335\n",
       "Name: State, dtype: int64"
      ]
     },
     "execution_count": 18,
     "metadata": {},
     "output_type": "execute_result"
    }
   ],
   "source": [
    "newSort"
   ]
  },
  {
   "cell_type": "code",
   "execution_count": 19,
   "id": "e0c510c6",
   "metadata": {},
   "outputs": [
    {
     "data": {
      "text/plain": [
       "DatetimeIndex(['2021-01-27', '2020-06-12', '2018-11-01', '2021-10-25',\n",
       "               '2012-01-31', '2020-11-03', '2021-01-15', '2017-09-01',\n",
       "               '2011-03-15', '2019-08-15'],\n",
       "              dtype='datetime64[ns]', name='Open Date', freq=None)"
      ]
     },
     "execution_count": 19,
     "metadata": {},
     "output_type": "execute_result"
    }
   ],
   "source": [
    "x = newSort.index\n",
    "x"
   ]
  },
  {
   "cell_type": "code",
   "execution_count": 20,
   "id": "dbb4042b",
   "metadata": {},
   "outputs": [
    {
     "data": {
      "text/plain": [
       "array([10413,  3434,   905,   843,   714,   677,   654,   534,   470,\n",
       "         335])"
      ]
     },
     "execution_count": 20,
     "metadata": {},
     "output_type": "execute_result"
    }
   ],
   "source": [
    "h = newSort.values\n",
    "h"
   ]
  },
  {
   "cell_type": "code",
   "execution_count": 21,
   "id": "3855a114",
   "metadata": {},
   "outputs": [
    {
     "data": {
      "text/plain": [
       "array([10413,  3434,   905,   843,   714,   677,   654,   534,   470,\n",
       "         335])"
      ]
     },
     "execution_count": 21,
     "metadata": {},
     "output_type": "execute_result"
    }
   ],
   "source": [
    "newSort.values"
   ]
  },
  {
   "cell_type": "code",
   "execution_count": 22,
   "id": "90687a21",
   "metadata": {},
   "outputs": [
    {
     "data": {
      "image/png": "[encoded data removed]",
      "text/plain": [
       "<Figure size 864x576 with 1 Axes>"
      ]
     },
     "metadata": {
      "needs_background": "light"
     },
     "output_type": "display_data"
    }
   ],
   "source": [
    "plt.figure(figsize=(12,8))\n",
    "plt.title(\"Tri-State (NY,NJ,CT) EVs\")\n",
    "plt.ylabel(\"Latitude\")\n",
    "plt.xlabel(\"Longitude\")\n",
    "plt.scatter(tristate[\"Longitude\"], tristate[\"Latitude\"])\n",
    "plt.savefig(\"EVplot.png\")"
   ]
  },
  {
   "cell_type": "code",
   "execution_count": 23,
   "id": "099400c1",
   "metadata": {},
   "outputs": [
    {
     "data": {
      "text/html": [
       "<div>\n",
       "<style scoped>\n",
       "    .dataframe tbody tr th:only-of-type {\n",
       "        vertical-align: middle;\n",
       "    }\n",
       "\n",
       "    .dataframe tbody tr th {\n",
       "        vertical-align: top;\n",
       "    }\n",
       "\n",
       "    .dataframe thead th {\n",
       "        text-align: right;\n",
       "    }\n",
       "</style>\n",
       "<table border=\"1\" class=\"dataframe\">\n",
       "  <thead>\n",
       "    <tr style=\"text-align: right;\">\n",
       "      <th></th>\n",
       "      <th>State</th>\n",
       "      <th>Open Date</th>\n",
       "      <th>Latitude</th>\n",
       "      <th>Longitude</th>\n",
       "    </tr>\n",
       "  </thead>\n",
       "  <tbody>\n",
       "  </tbody>\n",
       "</table>\n",
       "</div>"
      ],
      "text/plain": [
       "Empty DataFrame\n",
       "Columns: [State, Open Date, Latitude, Longitude]\n",
       "Index: []"
      ]
     },
     "execution_count": 23,
     "metadata": {},
     "output_type": "execute_result"
    }
   ],
   "source": [
    "tristate[tristate[\"Longitude\"]==0]"
   ]
  },
  {
   "cell_type": "code",
   "execution_count": 24,
   "id": "f5f2fe6f",
   "metadata": {},
   "outputs": [
    {
     "data": {
      "text/html": [
       "<div>\n",
       "<style scoped>\n",
       "    .dataframe tbody tr th:only-of-type {\n",
       "        vertical-align: middle;\n",
       "    }\n",
       "\n",
       "    .dataframe tbody tr th {\n",
       "        vertical-align: top;\n",
       "    }\n",
       "\n",
       "    .dataframe thead th {\n",
       "        text-align: right;\n",
       "    }\n",
       "</style>\n",
       "<table border=\"1\" class=\"dataframe\">\n",
       "  <thead>\n",
       "    <tr style=\"text-align: right;\">\n",
       "      <th></th>\n",
       "      <th>State</th>\n",
       "      <th>Open Date</th>\n",
       "      <th>Latitude</th>\n",
       "      <th>Longitude</th>\n",
       "    </tr>\n",
       "  </thead>\n",
       "  <tbody>\n",
       "  </tbody>\n",
       "</table>\n",
       "</div>"
      ],
      "text/plain": [
       "Empty DataFrame\n",
       "Columns: [State, Open Date, Latitude, Longitude]\n",
       "Index: []"
      ]
     },
     "execution_count": 24,
     "metadata": {},
     "output_type": "execute_result"
    }
   ],
   "source": [
    "tristate[tristate[\"Latitude\"]==0]"
   ]
  },
  {
   "cell_type": "code",
   "execution_count": 25,
   "id": "6da8661d",
   "metadata": {},
   "outputs": [
    {
     "ename": "NameError",
     "evalue": "name 'data' is not defined",
     "output_type": "error",
     "traceback": [
      "\u001b[0;31m---------------------------------------------------------------------------\u001b[0m",
      "\u001b[0;31mNameError\u001b[0m                                 Traceback (most recent call last)",
      "\u001b[0;32m<ipython-input-25-c5d84736ba45>\u001b[0m in \u001b[0;36m<module>\u001b[0;34m\u001b[0m\n\u001b[0;32m----> 1\u001b[0;31m \u001b[0mdata\u001b[0m\u001b[0;34m\u001b[0m\u001b[0;34m\u001b[0m\u001b[0m\n\u001b[0m",
      "\u001b[0;31mNameError\u001b[0m: name 'data' is not defined"
     ]
    }
   ],
   "source": [
    "data"
   ]
  },
  {
   "cell_type": "code",
   "execution_count": 26,
   "id": "3d0b1d10",
   "metadata": {},
   "outputs": [],
   "source": [
    "EVopen= df.groupby('Open Date').count()"
   ]
  },
  {
   "cell_type": "code",
   "execution_count": 27,
   "id": "919223a2",
   "metadata": {},
   "outputs": [],
   "source": [
    "EVopen.reset_index(inplace= True)"
   ]
  },
  {
   "cell_type": "code",
   "execution_count": 32,
   "id": "f2803430",
   "metadata": {},
   "outputs": [],
   "source": [
    "EVopen.sort_values(by= 'State', inplace = True, ascending= False)"
   ]
  },
  {
   "cell_type": "code",
   "execution_count": 35,
   "id": "340e4f05",
   "metadata": {},
   "outputs": [],
   "source": [
    "EVdata= EVopen.iloc[:10]  # grab first 10"
   ]
  },
  {
   "cell_type": "code",
   "execution_count": null,
   "id": "7fb4810d",
   "metadata": {},
   "outputs": [],
   "source": []
  },
  {
   "cell_type": "code",
   "execution_count": 43,
   "id": "f182e3e0",
   "metadata": {
    "scrolled": true
   },
   "outputs": [
    {
     "data": {
      "text/plain": [
       "Text(0.5, 1.0, 'EVs installed')"
      ]
     },
     "execution_count": 43,
     "metadata": {},
     "output_type": "execute_result"
    },
    {
     "data": {
      "image/png": "[encoded data removed]",
      "text/plain": [
       "<Figure size 864x576 with 1 Axes>"
      ]
     },
     "metadata": {},
     "output_type": "display_data"
    }
   ],
   "source": [
    "plt.figure(figsize=(12, 8))\n",
    "\n",
    "plt.hist( df[\"Open Date\"], color = 'red')\n",
    "plt.xlabel('data', fontsize=16)\n",
    "\n",
    "plt.ylabel('Open Date', fontsize=16)\n",
    "plt.title('EVs installed', fontsize=16)"
   ]
  },
  {
   "cell_type": "code",
   "execution_count": null,
   "id": "7f527ca7",
   "metadata": {},
   "outputs": [],
   "source": []
  },
  {
   "cell_type": "code",
   "execution_count": null,
   "id": "56715308",
   "metadata": {},
   "outputs": [],
   "source": [
    "model = DecisionTreeClassifier()#create object \"model\" & set it to new instance of this class"
   ]
  }
 ],
 "metadata": {
  "kernelspec": {
   "display_name": "Python 3",
   "language": "python",
   "name": "python3"
  },
  "language_info": {
   "codemirror_mode": {
    "name": "ipython",
    "version": 3
   },
   "file_extension": ".py",
   "mimetype": "text/x-python",
   "name": "python",
   "nbconvert_exporter": "python",
   "pygments_lexer": "ipython3",
   "version": "3.8.8"
  }
 },
 "nbformat": 4,
 "nbformat_minor": 5
}
